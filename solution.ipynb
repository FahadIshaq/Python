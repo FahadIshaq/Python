{
 "cells": [
  {
   "cell_type": "code",
   "execution_count": 2,
   "metadata": {},
   "outputs": [
    {
     "name": "stdout",
     "output_type": "stream",
     "text": [
      "2.7182818011463845\n"
     ]
    }
   ],
   "source": [
    "import math\n",
    "\n",
    "def calculate_euler_number(n):\n",
    "    e = 0\n",
    "    for i in range(n + 1):\n",
    "        e += 1 / math.factorial(i)\n",
    "    return e\n",
    "\n",
    "n = 10  \n",
    "print(calculate_euler_number(n))\n"
   ]
  },
  {
   "cell_type": "code",
   "execution_count": 1,
   "metadata": {},
   "outputs": [
    {
     "name": "stdout",
     "output_type": "stream",
     "text": [
      "2.7182818284590455\n"
     ]
    }
   ],
   "source": [
    "import math\n",
    "\n",
    "def approximate_e(n):\n",
    "    e = 0  # Initialization of the value\n",
    "    for i in range(n):\n",
    "        e += 1 / math.factorial(i)\n",
    "    return e\n",
    "\n",
    "n = 1000  \n",
    "print(approximate_e(n))\n"
   ]
  },
  {
   "cell_type": "code",
   "execution_count": 3,
   "metadata": {},
   "outputs": [
    {
     "name": "stdout",
     "output_type": "stream",
     "text": [
      "8190.0\n"
     ]
    }
   ],
   "source": [
    "def sum_geometric_series(a, r, n):\n",
    "    series_sum = 0  # Initiation of the value\n",
    "    if r != 1:\n",
    "        series_sum = a * (1 - r**(n+2)) / (1 - r)\n",
    "    else:\n",
    "        series_sum = a * (n+2)\n",
    "    return series_sum\n",
    "\n",
    "print(sum_geometric_series(2, 2, 10))\n"
   ]
  },
  {
   "cell_type": "code",
   "execution_count": null,
   "metadata": {},
   "outputs": [],
   "source": [
    " ## Don't write any code in this box"
   ]
  },
  {
   "cell_type": "code",
   "execution_count": null,
   "metadata": {},
   "outputs": [],
   "source": [
    " ## Don't write any code in this box"
   ]
  },
  {
   "cell_type": "code",
   "execution_count": 4,
   "metadata": {},
   "outputs": [
    {
     "name": "stdout",
     "output_type": "stream",
     "text": [
      "4\n",
      "-4\n",
      "2\n"
     ]
    }
   ],
   "source": [
    "def function_f(x):\n",
    "    if x < -1:\n",
    "        fval = x**2\n",
    "    else:\n",
    "        fval = 3*x - 1\n",
    "    return fval\n",
    "\n",
    "print(function_f(-2))  # Test with x = -2\n",
    "print(function_f(-1))  # Test with x = -1\n",
    "print(function_f(1))   # Test with x = 1\n"
   ]
  },
  {
   "cell_type": "code",
   "execution_count": null,
   "metadata": {},
   "outputs": [],
   "source": [
    " ## Don't write any code in this box"
   ]
  },
  {
   "cell_type": "code",
   "execution_count": null,
   "metadata": {},
   "outputs": [],
   "source": [
    " ## Don't write any code in this box"
   ]
  },
  {
   "cell_type": "code",
   "execution_count": null,
   "metadata": {},
   "outputs": [],
   "source": [
    " ## Don't write any code in this box"
   ]
  },
  {
   "cell_type": "code",
   "execution_count": null,
   "metadata": {},
   "outputs": [],
   "source": [
    " ## Don't write any code in this box"
   ]
  },
  {
   "cell_type": "code",
   "execution_count": 5,
   "metadata": {},
   "outputs": [
    {
     "name": "stdout",
     "output_type": "stream",
     "text": [
      "[[9 7 5]\n",
      " [6 6 6]\n",
      " [6 6 6]]\n"
     ]
    }
   ],
   "source": [
    "import numpy as np\n",
    "\n",
    "def add_matrices(a, b, c):\n",
    "    matrix = a + b + c\n",
    "    return matrix\n",
    "\n",
    "a = np.array([[3, 2, 1], [1, 1, 1], [1, 1, 1]])\n",
    "b = np.array([[3, 2, 1], [2, 2, 2], [2, 2, 2]])\n",
    "c = np.array([[3, 3, 3], [3, 3, 3], [3, 3, 3]])\n",
    "\n",
    "print(add_matrices(a, b, c))\n"
   ]
  },
  {
   "cell_type": "code",
   "execution_count": null,
   "metadata": {},
   "outputs": [],
   "source": [
    " ## Don't write any code in this box"
   ]
  },
  {
   "cell_type": "code",
   "execution_count": null,
   "metadata": {},
   "outputs": [],
   "source": [
    " ## Don't write any code in this box"
   ]
  },
  {
   "cell_type": "code",
   "execution_count": 6,
   "metadata": {},
   "outputs": [
    {
     "name": "stdout",
     "output_type": "stream",
     "text": [
      "[[57. 74.]\n",
      " [74. 97.]]\n"
     ]
    }
   ],
   "source": [
    "import numpy as np\n",
    "\n",
    "def multiply_At_A(A):\n",
    "    dim1 = A.shape[0]\n",
    "    dim2 = A.shape[1]\n",
    "\n",
    "    matrix = np.zeros([dim2, dim2])\n",
    "    for i in range(dim2):\n",
    "        for j in range(dim2):\n",
    "            for k in range(dim1):\n",
    "                matrix[i, j] += A[k, i] * A[k, j]\n",
    "    return matrix\n",
    "\n",
    "A = np.array([[5, 6], [4, 6], [4, 5]])\n",
    "print(multiply_At_A(A))\n"
   ]
  },
  {
   "cell_type": "code",
   "execution_count": null,
   "metadata": {},
   "outputs": [],
   "source": [
    " ## Don't write any code in this box"
   ]
  },
  {
   "cell_type": "code",
   "execution_count": null,
   "metadata": {},
   "outputs": [],
   "source": [
    " ## Don't write any code in this box"
   ]
  },
  {
   "cell_type": "code",
   "execution_count": 7,
   "metadata": {},
   "outputs": [
    {
     "name": "stdout",
     "output_type": "stream",
     "text": [
      "Initial Monthly Spending = £ 1000\n",
      "The inflation rate =  1 %\n",
      "End-of-year Monthly Spending = £ 1115.6683466653164\n"
     ]
    }
   ],
   "source": [
    "def Inflation(x, Ic):\n",
    "    inflation_rate_decimal = x / 100\n",
    "\n",
    "    Fc = Ic * ((1 + inflation_rate_decimal) ** 11)\n",
    "    return Fc\n",
    "\n",
    "#Example\n",
    "x = 1  # 1% inflation rate\n",
    "Ic = 1000  # £1000 initial monthly spending\n",
    "print(\"Initial Monthly Spending = £\", Ic)\n",
    "print(\"The inflation rate = \", x, \"%\")\n",
    "print(\"End-of-year Monthly Spending = £\", Inflation(x, Ic))\n"
   ]
  },
  {
   "cell_type": "code",
   "execution_count": null,
   "metadata": {},
   "outputs": [],
   "source": [
    " ## Don't write any code in this box"
   ]
  },
  {
   "cell_type": "code",
   "execution_count": null,
   "metadata": {},
   "outputs": [],
   "source": [
    " ## Don't write any code in this box"
   ]
  },
  {
   "cell_type": "code",
   "execution_count": 8,
   "metadata": {},
   "outputs": [
    {
     "name": "stdout",
     "output_type": "stream",
     "text": [
      "40.00000000000001\n"
     ]
    }
   ],
   "source": [
    "from math import *\n",
    "\n",
    "def InterageSimpson(N, a, b):\n",
    "    def f(x):\n",
    "        return 2 * x**3\n",
    "\n",
    "    dx = (b - a) / N\n",
    "    value = 0\n",
    "\n",
    "    # Add the first and last terms outside the loop\n",
    "    TotalArea = f(a) + f(b)\n",
    "\n",
    "    for n in range(1, N):\n",
    "        x_n = a + n * dx\n",
    "        if n % 2 == 0:\n",
    "            # Even n: add 2*f(x_n)\n",
    "            TotalArea += 2 * f(x_n)\n",
    "        else:\n",
    "            # Odd n: add 4*f(x_n)\n",
    "            TotalArea += 4 * f(x_n)\n",
    "\n",
    "    TotalArea *= dx / 3\n",
    "    return TotalArea\n",
    "\n",
    "# Check your code by using the print command below\n",
    "N = 100\n",
    "a = 1\n",
    "b = 3\n",
    "print(InterageSimpson(N, a, b))\n"
   ]
  },
  {
   "cell_type": "code",
   "execution_count": null,
   "metadata": {},
   "outputs": [],
   "source": [
    " ## Don't write any code in this box"
   ]
  },
  {
   "cell_type": "code",
   "execution_count": null,
   "metadata": {},
   "outputs": [],
   "source": [
    " ## Don't write any code in this box"
   ]
  },
  {
   "cell_type": "code",
   "execution_count": null,
   "metadata": {},
   "outputs": [],
   "source": [
    " ## Don't write any code in this box"
   ]
  },
  {
   "cell_type": "code",
   "execution_count": null,
   "metadata": {},
   "outputs": [],
   "source": [
    " ## Don't write any code in this box"
   ]
  },
  {
   "cell_type": "code",
   "execution_count": 10,
   "metadata": {},
   "outputs": [
    {
     "name": "stdout",
     "output_type": "stream",
     "text": [
      "[323.20508076 159.80762114]\n"
     ]
    }
   ],
   "source": [
    "import numpy as np\n",
    "import math\n",
    "\n",
    "def force_vec(F1, F2, theta1, theta2):\n",
    "    # Convert angles from degrees to radians\n",
    "    theta1_rad = math.radians(theta1)\n",
    "    theta2_rad = math.radians(theta2)\n",
    "    \n",
    "    # Calculate components of F1\n",
    "    F1_x = F1 * math.cos(theta1_rad)\n",
    "    F1_y = F1 * math.sin(theta1_rad)\n",
    "    \n",
    "    # Calculate components of F2\n",
    "    F2_x = F2 * math.cos(theta2_rad)\n",
    "    F2_y = F2 * math.sin(theta2_rad)\n",
    "    \n",
    "    # Resultant force vector\n",
    "    R = np.array([F1_x + F2_x, F1_y + F2_y])\n",
    "    \n",
    "    return R\n",
    "\n",
    "\n",
    "#Test Example\n",
    "F1 = 300\n",
    "F2 = 200\n",
    "Theta1 = 60\n",
    "Theta2 = -30\n",
    "print(force_vec(F1, F2, Theta1, Theta2))\n"
   ]
  },
  {
   "cell_type": "code",
   "execution_count": null,
   "metadata": {},
   "outputs": [],
   "source": [
    " ## Don't write any code in this box"
   ]
  },
  {
   "cell_type": "code",
   "execution_count": null,
   "metadata": {},
   "outputs": [],
   "source": [
    " ## Don't write any code in this box"
   ]
  },
  {
   "cell_type": "code",
   "execution_count": 11,
   "metadata": {},
   "outputs": [
    {
     "name": "stdout",
     "output_type": "stream",
     "text": [
      "Total_length= 2639 mm\n",
      "AB_length= 713 mm\n",
      "BC_length= 1926 mm\n",
      "Board_width= 562 mm\n",
      "Board_thickness= 6 mm\n",
      "Modulus= 66341 MPa\n",
      "Diver_weight= 677 N\n",
      "Second Moment of Area (I): 10116.0 mm^4\n",
      "Maximum Bending Stress (σ_max): 38.67593059576739 MPa\n"
     ]
    },
    {
     "data": {
      "image/png": "[encoded data removed]",
      "text/plain": [
       "<Figure size 1200x600 with 2 Axes>"
      ]
     },
     "metadata": {},
     "output_type": "display_data"
    }
   ],
   "source": [
    "import random\n",
    "import numpy as np\n",
    "import matplotlib.pyplot as plt\n",
    "\n",
    "# Set the random seed for reproducibility\n",
    "seed_value = 45\n",
    "random.seed(seed_value)\n",
    "\n",
    "# Generate random values for the parameters\n",
    "Total_length = random.randint(2500, 3000)  # mm\n",
    "AB_length = random.randint(500, 1000)  # mm\n",
    "BC_length = Total_length - AB_length  # mm\n",
    "Board_width = random.randint(500, 600)  # mm\n",
    "Board_thickness = random.randint(5, 7)  # mm\n",
    "Modulus = random.randint(65e3, 75e3)  # MPa\n",
    "Diver_weight = random.randint(600, 800)  # N\n",
    "\n",
    "# Print the generated parameters\n",
    "print(\"Total_length=\", Total_length, \"mm\")\n",
    "print(\"AB_length=\", AB_length, \"mm\")\n",
    "print(\"BC_length=\", BC_length, \"mm\")\n",
    "print(\"Board_width=\", Board_width, \"mm\")\n",
    "print(\"Board_thickness=\", Board_thickness, \"mm\")\n",
    "print(\"Modulus=\", Modulus, \"MPa\")\n",
    "print(\"Diver_weight=\", Diver_weight, \"N\")\n",
    "\n",
    "# Function to calculate the second moment of area\n",
    "def second_moment_of_area(b, h):\n",
    "    return (b * h**3) / 12\n",
    "\n",
    "# Function to calculate the maximum bending stress\n",
    "def max_bending_stress(M, I, c):\n",
    "    return M * c / I\n",
    "\n",
    "# Function to calculate reactions at supports for a three-point bending setup\n",
    "def calculate_reactions(L_AB, L_BC, P):\n",
    "    # Assuming a reaction at the center (B) and at the end (A)\n",
    "    # and the diver positioned at the end (C)\n",
    "    R_B = P * L_BC / (L_AB + L_BC)  # Reaction at B\n",
    "    R_A = P - R_B  # Reaction at A, assuming no external forces other than P\n",
    "    return R_A, R_B\n",
    "\n",
    "# Function to plot the shear force and bending moment diagrams\n",
    "def plot_diagrams(L_AC, L_AB, R_A, R_B, P):\n",
    "    x = np.array([0, L_AB, L_AC])\n",
    "    V = np.array([R_A, R_A - R_B, 0])  # Shear force values\n",
    "    M = np.array([0, R_A * L_AB, 0])  # Bending moment values\n",
    "    \n",
    "    plt.figure(figsize=(12, 6))\n",
    "\n",
    "    # Plotting the shear force diagram\n",
    "    plt.subplot(1, 2, 1)\n",
    "    plt.step(x, V, where='post')\n",
    "    plt.title('Shear Force Diagram')\n",
    "    plt.xlabel('Length (mm)')\n",
    "    plt.ylabel('Shear Force (N)')\n",
    "\n",
    "    # Plotting the bending moment diagram\n",
    "    plt.subplot(1, 2, 2)\n",
    "    plt.plot(x, M)\n",
    "    plt.title('Bending Moment Diagram')\n",
    "    plt.xlabel('Length (mm)')\n",
    "    plt.ylabel('Bending Moment (Nmm)')\n",
    "\n",
    "    plt.tight_layout()\n",
    "    plt.show()\n",
    "\n",
    "# Calculate second moment of area (I)\n",
    "I = second_moment_of_area(Board_width, Board_thickness)\n",
    "\n",
    "# Calculate reactions at supports\n",
    "R_A, R_B = calculate_reactions(AB_length, BC_length, Diver_weight)\n",
    "\n",
    "# Calculate maximum bending moment at point B\n",
    "M_max = R_A * AB_length  # Assuming point B is the midpoint\n",
    "\n",
    "# Distance from neutral axis to outermost fiber\n",
    "c = Board_thickness / 2\n",
    "\n",
    "# Calculate maximum bending stress\n",
    "sigma_max = max_bending_stress(M_max, I, c)\n",
    "\n",
    "# Print results\n",
    "print(f\"Second Moment of Area (I): {I} mm^4\")\n",
    "print(f\"Maximum Bending Stress (σ_max): {sigma_max} MPa\")\n",
    "\n",
    "# Plot shear force and moment diagrams\n",
    "plot_diagrams(Total_length, AB_length, R_A, R_B, Diver_weight)\n"
   ]
  },
  {
   "cell_type": "code",
   "execution_count": null,
   "metadata": {},
   "outputs": [],
   "source": [
    " ## Don't write any code in this box"
   ]
  },
  {
   "cell_type": "code",
   "execution_count": null,
   "metadata": {},
   "outputs": [],
   "source": [
    " ## Don't write any code in this box"
   ]
  },
  {
   "cell_type": "code",
   "execution_count": 13,
   "metadata": {},
   "outputs": [
    {
     "name": "stdout",
     "output_type": "stream",
     "text": [
      "The 2nd moment of area= 10115.999999999998 mm^4\n"
     ]
    }
   ],
   "source": [
    "# Define the function to calculate the second moment of area for a rectangular cross-section\n",
    "def SecondMomentArea(b, h):\n",
    "    # The second moment of area (also known as the moment of inertia) for a rectangle about its base is (1/12)*base*height^3\n",
    "    I = (1/12) * b * h**3\n",
    "    return I\n",
    "\n",
    "# Given values from the previous cell\n",
    "b = Board_width  # width in mm\n",
    "h = Board_thickness  # thickness in mm\n",
    "\n",
    "# Check the answer by printing the value\n",
    "print(\"The 2nd moment of area=\", SecondMomentArea(b, h), \"mm^4\")\n"
   ]
  },
  {
   "cell_type": "code",
   "execution_count": null,
   "metadata": {},
   "outputs": [],
   "source": [
    " ## Don't write any code in this box"
   ]
  },
  {
   "cell_type": "code",
   "execution_count": 15,
   "metadata": {},
   "outputs": [
    {
     "name": "stdout",
     "output_type": "stream",
     "text": [
      "Y_A= 494.08942781356575 N Y_B= 182.91057218643425 N\n"
     ]
    }
   ],
   "source": [
    "# Define the function to calculate the reaction forces at the support points A and B\n",
    "def ReactionForce(LAC, LAB, P):\n",
    "    # The support at B will take the entire weight if the diver is standing right above it\n",
    "    # The reaction at A will then be zero since it's a static system and there are no other forces\n",
    "    # If the diver is not directly above B, the reactions need to be calculated considering moments about each support\n",
    "    LBC = LAC - LAB  # Calculate length of BC\n",
    "    # Calculate reaction at A by taking moments about B (sum of moments about B must be equal to zero)\n",
    "    Y_A = P * LBC / LAC\n",
    "    # Reaction at B is the total load minus reaction at A\n",
    "    Y_B = P - Y_A\n",
    "    return Y_A, Y_B\n",
    "\n",
    "# Given values from the previous outputs\n",
    "LAC = Total_length  # total length of the diving board in mm\n",
    "LAB = AB_length  # distance of AB section in mm\n",
    "P = Diver_weight  # weight of the diver in N\n",
    "\n",
    "# Check the answer by printing the values\n",
    "Y_A, Y_B = ReactionForce(LAC, LAB, P)\n",
    "print(\"Y_A=\", Y_A, \"N\", \"Y_B=\", Y_B, \"N\")\n"
   ]
  },
  {
   "cell_type": "code",
   "execution_count": null,
   "metadata": {},
   "outputs": [],
   "source": [
    " ## Don't write any code in this box"
   ]
  },
  {
   "cell_type": "code",
   "execution_count": null,
   "metadata": {},
   "outputs": [],
   "source": [
    " ## Don't write any code in this box"
   ]
  },
  {
   "cell_type": "code",
   "execution_count": 16,
   "metadata": {},
   "outputs": [
    {
     "name": "stdout",
     "output_type": "stream",
     "text": [
      "V= [494.08942781 494.08942781 494.08942781 ...   0.           0.\n",
      "   0.        ] M= [  0.         494.08942781 988.17885563 ...   0.           0.\n",
      "   0.        ]\n"
     ]
    }
   ],
   "source": [
    "# Define the function to calculate the shear force and bending moment arrays\n",
    "def ABDiagram(LAC, LAB, P):\n",
    "    # Initialize arrays for shear force (V) and bending moment (M)\n",
    "    V = np.zeros(LAC)\n",
    "    M = np.zeros(LAC)\n",
    "    \n",
    "    # Calculate reaction forces first\n",
    "    Y_A, Y_B = ReactionForce(LAC, LAB, P)\n",
    "    \n",
    "    # Define shear force and bending moment for each section\n",
    "    for x in range(0, LAC):\n",
    "        if x < LAB:  # For section AB\n",
    "            V[x] = Y_A  # Shear force is constant and equal to Y_A\n",
    "            M[x] = Y_A * x  # Bending moment increases linearly with x\n",
    "        elif x == LAB:  # Right at point B\n",
    "            V[x] = Y_A - P  # Shear force jumps down by P at the point of application\n",
    "            M[x] = Y_A * x  # Bending moment is maximum at point B\n",
    "        else:  # For section BC\n",
    "            V[x] = 0  # Shear force is zero as there are no loads between B and C\n",
    "            M[x] = 0  # Bending moment is zero as well\n",
    "    \n",
    "    return V, M\n",
    "\n",
    "# Generate shear force (V) and bending moment (M) diagrams\n",
    "V, M = ABDiagram(LAC, LAB, P)\n",
    "\n",
    "# Check the answer by printing the values\n",
    "print(\"V=\", V, \"M=\", M)\n"
   ]
  },
  {
   "cell_type": "code",
   "execution_count": null,
   "metadata": {},
   "outputs": [],
   "source": [
    " ## Don't write any code in this box"
   ]
  },
  {
   "cell_type": "code",
   "execution_count": null,
   "metadata": {},
   "outputs": [],
   "source": [
    " ## Don't write any code in this box"
   ]
  },
  {
   "cell_type": "code",
   "execution_count": 17,
   "metadata": {},
   "outputs": [
    {
     "name": "stdout",
     "output_type": "stream",
     "text": [
      "V= [ 494.08942781  494.08942781  494.08942781 ... -182.91057219 -182.91057219\n",
      " -182.91057219] M= [  0.         494.08942781 988.17885563 ... 548.73171656 365.82114437\n",
      " 182.91057219]\n"
     ]
    }
   ],
   "source": [
    "# Define the function to calculate the shear force and bending moment arrays for section BC\n",
    "def BCDiagram(LAC, LAB, P):\n",
    "    LBC = LAC - LAB  # Length of section BC\n",
    "    # Initialize arrays for shear force (V) and bending moment (M)\n",
    "    V = np.zeros(LAC)\n",
    "    M = np.zeros(LAC)\n",
    "    \n",
    "    # Calculate reaction forces first\n",
    "    Y_A, Y_B = ReactionForce(LAC, LAB, P)\n",
    "    \n",
    "    # Section AB - from point A to B\n",
    "    for x in range(0, LAB):\n",
    "        V[x] = Y_A  # Shear force is constant and equal to Y_A\n",
    "        M[x] = Y_A * x  # Bending moment increases linearly with x\n",
    "    \n",
    "    # Section BC - from point B to C\n",
    "    for x in range(LAB, LAC):\n",
    "        # Shear force right after point B drops by P\n",
    "        V[x] = Y_A - P\n",
    "        # Bending moment from point B to C decreases linearly with x\n",
    "        M[x] = Y_B * (LAC - x)\n",
    "    \n",
    "    return V, M\n",
    "\n",
    "# Check the answer by printing the values\n",
    "V, M = BCDiagram(LAC, LAB, P)\n",
    "print(\"V=\", V, \"M=\", M)\n"
   ]
  },
  {
   "cell_type": "code",
   "execution_count": null,
   "metadata": {},
   "outputs": [],
   "source": [
    " ## Don't write any code in this box"
   ]
  },
  {
   "cell_type": "code",
   "execution_count": null,
   "metadata": {},
   "outputs": [],
   "source": [
    " ## Don't write any code in this box"
   ]
  },
  {
   "cell_type": "code",
   "execution_count": 18,
   "metadata": {},
   "outputs": [
    {
     "name": "stdout",
     "output_type": "stream",
     "text": [
      "max shear force= 494.08942781356575\n",
      "max moment= 352285.76203107234\n"
     ]
    }
   ],
   "source": [
    "# Define the function to find the maximum shear force and maximum internal moment\n",
    "def MaxShearMoment(V, M):\n",
    "    # The maximum shear force is the maximum absolute value in the shear force array\n",
    "    maxV = np.max(np.abs(V))\n",
    "    # The maximum internal moment is the maximum absolute value in the moment array\n",
    "    maxM = np.max(np.abs(M))\n",
    "    return maxV, maxM\n",
    "\n",
    "# Check the answer by printing the values\n",
    "max_shear_force, max_moment = MaxShearMoment(V, M)\n",
    "print('max shear force=', max_shear_force)\n",
    "print('max moment=', max_moment)\n"
   ]
  },
  {
   "cell_type": "code",
   "execution_count": null,
   "metadata": {},
   "outputs": [],
   "source": [
    " ## Don't write any code in this box"
   ]
  },
  {
   "cell_type": "code",
   "execution_count": null,
   "metadata": {},
   "outputs": [],
   "source": [
    " ## Don't write any code in this box"
   ]
  },
  {
   "cell_type": "code",
   "execution_count": 19,
   "metadata": {},
   "outputs": [
    {
     "name": "stdout",
     "output_type": "stream",
     "text": [
      "Maximum Bending stress = 0.00010447383215630854 MPa\n"
     ]
    }
   ],
   "source": [
    "# Define the function to calculate the maximum bending stress\n",
    "def MaxBendingStress(maxM, yc, I):\n",
    "    # Maximum bending stress using the formula: σ = M*y/I\n",
    "    SigmaB = maxM * yc / I\n",
    "    return SigmaB / 1e6  # Convert N/mm^2 to MPa\n",
    "\n",
    "# Given values\n",
    "I = SecondMomentArea(Board_width, Board_thickness)  # mm^4\n",
    "maxM = MaxShearMoment(V, M)[1]  # N*mm\n",
    "yc = Board_thickness / 2  # mm\n",
    "\n",
    "# Check the answer by printing the value\n",
    "print('Maximum Bending stress =', MaxBendingStress(maxM, yc, I), 'MPa')\n"
   ]
  },
  {
   "cell_type": "code",
   "execution_count": null,
   "metadata": {},
   "outputs": [],
   "source": [
    " ## Don't write any code in this box"
   ]
  },
  {
   "cell_type": "code",
   "execution_count": 21,
   "metadata": {},
   "outputs": [
    {
     "name": "stdout",
     "output_type": "stream",
     "text": [
      "[0.00000000e+00 1.00037908e+00 2.00075815e+00 ... 2.63699924e+03\n",
      " 2.63799962e+03 2.63900000e+03] [ 494.08942781  494.08942781  494.08942781 ... -182.91057219 -182.91057219\n",
      " -182.91057219] [  0.         494.08942781 988.17885563 ... 548.73171656 365.82114437\n",
      " 182.91057219]\n"
     ]
    },
    {
     "data": {
      "image/png": "[encoded data removed]",
      "text/plain": [
       "<Figure size 1000x600 with 2 Axes>"
      ]
     },
     "metadata": {},
     "output_type": "display_data"
    }
   ],
   "source": [
    "# Re-initializing the values based on previous calculations\n",
    "LAC = Total_length  # total length of the diving board in mm\n",
    "LAB = AB_length  # distance of AB section in mm\n",
    "P = Diver_weight  # weight of the diver in N\n",
    "b = Board_width  # width of the diving board in mm\n",
    "h = Board_thickness  # thickness of the diving board in mm\n",
    "\n",
    "# Calculate the second moment of area (I)\n",
    "I = SecondMomentArea(b, h)\n",
    "\n",
    "# Calculate the reaction forces\n",
    "Y_A, Y_B = ReactionForce(LAC, LAB, P)\n",
    "\n",
    "# Initialize arrays for shear force (V) and bending moment (M)\n",
    "V = np.zeros(LAC)\n",
    "M = np.zeros(LAC)\n",
    "\n",
    "# Update the shear force (V) and bending moment (M) arrays for the entire beam\n",
    "for x in range(0, LAB):\n",
    "    V[x] = Y_A  # Shear force is constant and equal to Y_A\n",
    "    M[x] = Y_A * x  # Bending moment increases linearly with x\n",
    "    \n",
    "for x in range(LAB, LAC):\n",
    "    V[x] = Y_A - P\n",
    "    M[x] = Y_B * (LAC - x)  # The bending moment decreases from B to C\n",
    "\n",
    "# X-axis values representing position along the beam\n",
    "X = np.linspace(0, LAC, num=LAC)\n",
    "\n",
    "# Print the arrays for position (X), shear force (V), and moment (M)\n",
    "print(X, V, M)\n",
    "\n",
    "# Prepare the annotations for the diagrams\n",
    "textstr1 = 'maxV=%.2f (N)' % (MaxShearMoment(V, M)[0])\n",
    "textstr2 = 'maxM=%.2f (N*mm)' % (MaxShearMoment(V, M)[1])\n",
    "props = dict(boxstyle='round', facecolor='white')\n",
    "\n",
    "# Create the plots for the shear force and bending moment diagrams\n",
    "fig, (ax1, ax2) = plt.subplots(2, 1, sharex=True, figsize=(10, 6))\n",
    "\n",
    "# Plot for internal shear force (V)\n",
    "ax1.plot(X, V, label='Shear Force (V)', color='blue')\n",
    "ax1.set_ylabel('Shear Force (N)')\n",
    "ax1.set_title('Shear Force Diagram')\n",
    "ax1.axhline(0, color='black', linewidth=0.5)\n",
    "ax1.text(0.05, 0.95, textstr1, transform=ax1.transAxes, fontsize=10, verticalalignment='top', bbox=props)\n",
    "\n",
    "# Plot for internal moment (M)\n",
    "ax2.plot(X, M, label='Bending Moment (M)', color='red')\n",
    "ax2.set_ylabel('Bending Moment (N*mm)')\n",
    "ax2.set_title('Bending Moment Diagram')\n",
    "ax2.axhline(0, color='black', linewidth=0.5)\n",
    "ax2.text(0.05, 0.95, textstr2, transform=ax2.transAxes, fontsize=10, verticalalignment='top', bbox=props)\n",
    "\n",
    "# Shared x-axis properties\n",
    "plt.xlabel('Position along the beam (mm)')\n",
    "plt.xticks(np.arange(0, LAC+1, step=500))  # Setting x-ticks for every 500mm\n",
    "plt.xlim(0, LAC)\n",
    "\n",
    "# Show legend\n",
    "ax1.legend()\n",
    "ax2.legend()\n",
    "\n",
    "# Show the plots\n",
    "plt.tight_layout()\n",
    "plt.show()\n"
   ]
  },
  {
   "cell_type": "code",
   "execution_count": null,
   "metadata": {},
   "outputs": [],
   "source": [
    " ## Don't write any code in this box"
   ]
  }
 ],
 "metadata": {
  "kernelspec": {
   "display_name": "Python 3",
   "language": "python",
   "name": "python3"
  },
  "language_info": {
   "codemirror_mode": {
    "name": "ipython",
    "version": 3
   },
   "file_extension": ".py",
   "mimetype": "text/x-python",
   "name": "python",
   "nbconvert_exporter": "python",
   "pygments_lexer": "ipython3",
   "version": "3.11.6"
  },
  "orig_nbformat": 4
 },
 "nbformat": 4,
 "nbformat_minor": 2
}
