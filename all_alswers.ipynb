{
 "cells": [
  {
   "cell_type": "code",
   "execution_count": 37,
   "metadata": {},
   "outputs": [
    {
     "name": "stdout",
     "output_type": "stream",
     "text": [
      "Each person must pay: $4.5\n"
     ]
    }
   ],
   "source": [
    "def calculate_individual_payment(total_price, number_of_diners):\n",
    "    individual_payment = total_price / number_of_diners\n",
    "    return individual_payment\n",
    "\n",
    "def main():\n",
    "    total_bill = float(input(\"Enter the total price of the bill: \"))\n",
    "    number_of_diners = int(input(\"How many diners are there? \"))\n",
    "\n",
    "    result = calculate_individual_payment(total_bill, number_of_diners)\n",
    "\n",
    "    if result.is_integer():\n",
    "        formatted_result = f\"{result:.1f}\"  \n",
    "    else:\n",
    "        formatted_result = f\"{result:.14f}\".rstrip('0').rstrip('.')  \n",
    "\n",
    "    print(f\"Each person must pay: ${formatted_result}\")\n",
    "\n",
    "main()\n"
   ]
  },
  {
   "cell_type": "code",
   "execution_count": 45,
   "metadata": {},
   "outputs": [
    {
     "name": "stdout",
     "output_type": "stream",
     "text": [
      "it is too windy for an umbrella\n"
     ]
    }
   ],
   "source": [
    "def main():\n",
    "    \n",
    "    is_raining = input(\"Is it raining? \").lower()\n",
    "\n",
    "    if is_raining == \"yes\":\n",
    "        is_windy = input(\"Is it windy? \").lower()\n",
    "        \n",
    "        if is_windy == \"yes\":\n",
    "            print(\"it is too windy for an umbrella\")\n",
    "        else:\n",
    "            print(\"take an umbrella\")\n",
    "    else:\n",
    "        print(\"enjoy your day\")\n",
    "main()\n"
   ]
  },
  {
   "cell_type": "code",
   "execution_count": 53,
   "metadata": {},
   "outputs": [
    {
     "name": "stdout",
     "output_type": "stream",
     "text": [
      "Current list of shows: ['ER', 'the good doctor']\n",
      "No new show entered. The list will remain the same.\n",
      "Updated list of shows: ['ER', 'the good doctor']\n"
     ]
    }
   ],
   "source": [
    "def main():\n",
    "    \n",
    "    shows = [\"ER\", \"the good doctor\"]\n",
    "\n",
    "    print(\"Current list of shows:\", shows)\n",
    "\n",
    "    new_show = input(\"Enter the name of a new show to add to the list (press enter to skip): \")\n",
    "\n",
    "    if new_show:\n",
    "        position_input = input(\"Enter the position you want the new show to be inserted at (press enter to skip): \")\n",
    "        position = int(position_input) if position_input.isdigit() else None\n",
    "\n",
    "        if position is not None:\n",
    "            shows.insert(position, new_show)\n",
    "\n",
    "    print(\"Updated list of shows:\", shows)\n",
    "\n",
    "main()\n"
   ]
  },
  {
   "cell_type": "code",
   "execution_count": 55,
   "metadata": {},
   "outputs": [
    {
     "name": "stdout",
     "output_type": "stream",
     "text": [
      "5 is not divisible by 2\n"
     ]
    }
   ],
   "source": [
    "def check_divisibility(num1, num2):\n",
    "    if num1 % num2 == 0:\n",
    "        return f\"{num1} is divisible by {num2}\"\n",
    "    else:\n",
    "        return f\"{num1} is not divisible by {num2}\"\n",
    "\n",
    "def main():\n",
    "    num1 = int(input(\"Enter the first number: \"))\n",
    "    \n",
    "    num2 = int(input(\"Enter the second number: \"))\n",
    "    \n",
    "    result = check_divisibility(num1, num2)\n",
    "    print(result)\n",
    "\n",
    "\n",
    "main()\n",
    "\n"
   ]
  },
  {
   "cell_type": "code",
   "execution_count": 11,
   "metadata": {},
   "outputs": [
    {
     "name": "stdout",
     "output_type": "stream",
     "text": [
      "Ciphertext: 0011111100001101000001010000101000001101000000000000001000001001000101010000110100001000000001010101110101011100010110100101010101010100010111010101110100011000\n"
     ]
    }
   ],
   "source": [
    "def to_int(binary_string):\n",
    "    return int(binary_string, 2)\n",
    "\n",
    "def reverse(binary_string):\n",
    "    return binary_string[::-1]\n",
    "\n",
    "def xor(block, subkey):\n",
    "    block_int = to_int(block)\n",
    "    subkey_int = to_int(subkey)\n",
    "    xored = block_int ^ subkey_int\n",
    "    return format(xored, '08b')\n",
    "\n",
    "def encrypt(plaintext, key):\n",
    "  \n",
    "    subkeys = [key[i:i+8] for i in range(0, len(key), 8)]\n",
    "\n",
    "    binary_plaintext = ''.join(format(ord(c), '08b') for c in plaintext)\n",
    "\n",
    "    ciphertext_blocks = []\n",
    "    for i in range(0, len(binary_plaintext), 8):\n",
    "        block = binary_plaintext[i:i+8]\n",
    "        for round_num in range(5):  \n",
    "            subkey = subkeys[round_num % len(subkeys)]\n",
    "            block = xor(block, subkey)\n",
    "        ciphertext_blocks.append(block)\n",
    "\n",
    "    ciphertext = ''.join(ciphertext_blocks)\n",
    "    return ciphertext\n",
    "\n",
    "\n",
    "plaintext = \"Saifalneyadi1069811t\"\n",
    "key = \"00111010100101001101011000101110\"  # Example 40-bit key, should be binary\n",
    "ciphertext = encrypt(plaintext, key)\n",
    "print(\"Ciphertext:\", ciphertext)\n"
   ]
  },
  {
   "cell_type": "code",
   "execution_count": 56,
   "metadata": {},
   "outputs": [
    {
     "name": "stdout",
     "output_type": "stream",
     "text": [
      "Listen, learn, and have fun.\n"
     ]
    }
   ],
   "source": [
    "\n",
    "def display_message_based_on_age(age):\n",
    "    if age <= 10:\n",
    "        return \"Listen, learn, and have fun.\"\n",
    "    elif age <= 19:\n",
    "        return \"Go fearlessly forward.\"\n",
    "    elif age <= 29:\n",
    "        return \"Seize the day.\"\n",
    "    elif age <= 39:\n",
    "        return \"Go for what you want.\"\n",
    "    elif age <= 59:\n",
    "        return \"Stay physically fit & healthy.\"\n",
    "    else:\n",
    "        return \"Each day is magical.\"\n",
    "\n",
    "def main():\n",
    "    user_age = int(input(\"Please enter your age: \"))\n",
    "    \n",
    "    message = display_message_based_on_age(user_age)\n",
    "    print(message)\n",
    "\n",
    "\n",
    "main()\n"
   ]
  },
  {
   "cell_type": "code",
   "execution_count": 12,
   "metadata": {},
   "outputs": [
    {
     "name": "stdout",
     "output_type": "stream",
     "text": [
      "Plaintext: Saifalneyadi1069811\n"
     ]
    }
   ],
   "source": [
    "def to_binary_string(integer, length=8):\n",
    "    return format(integer, f'0{length}b')\n",
    "\n",
    "def xor(block, subkey):\n",
    "    block_int = int(block, 2)\n",
    "    subkey_int = int(subkey, 2)\n",
    "    xored = block_int ^ subkey_int\n",
    "    return to_binary_string(xored)\n",
    "\n",
    "def decrypt(ciphertext, key):\n",
    "\n",
    "    subkeys = [key[i:i+8] for i in range(0, len(key), 8)]\n",
    "\n",
    "    plaintext_blocks = []\n",
    "    for i in range(0, len(ciphertext), 8):\n",
    "        block = ciphertext[i:i+8]\n",
    "        for round_num in reversed(range(5)):  \n",
    "            subkey = subkeys[round_num % len(subkeys)]\n",
    "        \n",
    "            block = xor(block, subkey)\n",
    "       \n",
    "        plaintext_blocks.append(block)\n",
    "\n",
    "    binary_string = ''.join(plaintext_blocks)\n",
    "    plaintext = ''.join(chr(int(binary_string[i:i+8], 2)) for i in range(0, len(binary_string), 8))\n",
    "    return plaintext\n",
    "\n",
    "\n",
    "ciphertext = \"00111110000011000000010000001011000011000000000100000011000010000001010000001100000010010000010001011100010111010101101101010100010101010101110001011100\"  # This should be the actual ciphertext\n",
    "key = \"00111010100101001101011000101111\"  # Example 40-bit key, should be binary\n",
    "plaintext = decrypt(ciphertext, key)\n",
    "print(\"Plaintext:\", plaintext)\n"
   ]
  },
  {
   "cell_type": "code",
   "execution_count": null,
   "metadata": {},
   "outputs": [],
   "source": [
    "toppings = [\"onion\", \"pepper\", \"pepperoni\", \"jalapeno\", \"mushrooms\"]\n",
    "\n",
    "new_topping = input(\"Enter new topping: \")\n",
    "toppings.append(new_topping)\n",
    "print(\"Updated toppings list:\", toppings)\n",
    "\n",
    "toppings[toppings.index(\"pepperoni\")] = \"broccoli\"\n",
    "print(\"Updated toppings list after change:\", toppings)\n",
    "\n",
    "def select_favorite_topping(prompt, exclude=[]):\n",
    "    while True:\n",
    "        favorite = int(input(prompt))\n",
    "        if favorite not in exclude and 0 <= favorite < len(toppings):\n",
    "            return favorite\n",
    "        else:\n",
    "            print(\"Invalid selection or topping already selected, try again.\")\n",
    "\n",
    "first_favorite = select_favorite_topping(\"Select your 1st favorite topping (0 to {}): \".format(len(toppings) - 1))\n",
    "second_favorite = select_favorite_topping(\"Select your 2nd favorite topping (0 to {}): \".format(len(toppings) - 1), exclude=[first_favorite])\n",
    "third_favorite = select_favorite_topping(\"Select your 3rd favorite topping (0 to {}): \".format(len(toppings) - 1), exclude=[first_favorite, second_favorite])\n",
    "\n",
    "print(f\"Thank you, your pizza with 3 toppings {toppings[first_favorite]}, {toppings[second_favorite]}, and {toppings[third_favorite]} is ready for pickup.\")\n"
   ]
  }
 ],
 "metadata": {
  "kernelspec": {
   "display_name": "Python 3",
   "language": "python",
   "name": "python3"
  },
  "language_info": {
   "codemirror_mode": {
    "name": "ipython",
    "version": 3
   },
   "file_extension": ".py",
   "mimetype": "text/x-python",
   "name": "python",
   "nbconvert_exporter": "python",
   "pygments_lexer": "ipython3",
   "version": "3.11.6"
  },
  "orig_nbformat": 4
 },
 "nbformat": 4,
 "nbformat_minor": 2
}
